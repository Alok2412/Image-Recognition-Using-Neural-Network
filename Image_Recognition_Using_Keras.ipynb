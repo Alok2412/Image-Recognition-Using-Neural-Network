{
 "cells": [
  {
   "cell_type": "markdown",
   "metadata": {},
   "source": [
    "## Image Recognition using Keras"
   ]
  },
  {
   "cell_type": "markdown",
   "metadata": {},
   "source": [
    "Image recognition refers to the task of inputting an image into a neural network and having it output some kind of label for that image. The label that the network outputs will correspond to a pre-defined class. There can be multiple classes that the image can be labeled as, or just one."
   ]
  },
  {
   "cell_type": "code",
   "execution_count": 2,
   "metadata": {},
   "outputs": [],
   "source": [
    "# importing packages for image reconition using keras\n",
    "import numpy\n",
    "from keras.models import Sequential\n",
    "from keras.layers import Dense, Dropout, Flatten, BatchNormalization, Activation\n",
    "from keras.constraints import maxnorm;\n",
    "from keras.layers.convolutional import Conv2D, MaxPooling2D;\n",
    "from keras.utils import np_utils;\n",
    "from keras.datasets import cifar10;"
   ]
  },
  {
   "cell_type": "code",
   "execution_count": 2,
   "metadata": {},
   "outputs": [],
   "source": [
    "# fix random seed for reproducibility\n",
    "seed = 21\n",
    "numpy.random.seed(seed)\n"
   ]
  },
  {
   "cell_type": "code",
   "execution_count": 3,
   "metadata": {},
   "outputs": [
    {
     "name": "stdout",
     "output_type": "stream",
     "text": [
      "Downloading data from https://www.cs.toronto.edu/~kriz/cifar-10-python.tar.gz\n",
      "170500096/170498071 [==============================] - 2316s 14us/step\n"
     ]
    }
   ],
   "source": [
    "# load data\n",
    "(X_train, y_train), (X_test, y_test) = cifar10.load_data()"
   ]
  },
  {
   "cell_type": "markdown",
   "metadata": {},
   "source": [
    "### Normalizing the DataSet"
   ]
  },
  {
   "cell_type": "code",
   "execution_count": 6,
   "metadata": {},
   "outputs": [],
   "source": [
    "# normalize inputs from 0-255 to 0.0-1.0\n",
    "X_train = X_train.astype('float32')\n",
    "X_test = X_test.astype('float32')\n",
    "X_train = X_train / 255.0\n",
    "X_test = X_test / 255.0"
   ]
  },
  {
   "cell_type": "code",
   "execution_count": 7,
   "metadata": {},
   "outputs": [],
   "source": [
    "# one hot encode outputs\n",
    "y_train = np_utils.to_categorical(y_train)\n",
    "y_test = np_utils.to_categorical(y_test)\n",
    "num_classes = y_test.shape[1]"
   ]
  },
  {
   "cell_type": "code",
   "execution_count": 8,
   "metadata": {},
   "outputs": [],
   "source": [
    "# Create the model\n",
    "model = Sequential()\n",
    "\n",
    "model.add(Conv2D(32, (3, 3), input_shape=X_train.shape[1:], padding='same'))\n",
    "model.add(Activation('relu'))\n",
    "model.add(Dropout(0.2))\n",
    "model.add(BatchNormalization())"
   ]
  },
  {
   "cell_type": "code",
   "execution_count": 9,
   "metadata": {},
   "outputs": [
    {
     "name": "stdout",
     "output_type": "stream",
     "text": [
      "WARNING:tensorflow:From E:\\Maynooth\\PythonAnaconda\\envs\\PythonCpu\\lib\\site-packages\\keras\\backend\\tensorflow_backend.py:4070: The name tf.nn.max_pool is deprecated. Please use tf.nn.max_pool2d instead.\n",
      "\n"
     ]
    }
   ],
   "source": [
    "model.add(Conv2D(64, (3, 3), padding='same'))\n",
    "model.add(Activation('relu'))\n",
    "model.add(MaxPooling2D(pool_size=(2, 2)))\n",
    "model.add(Dropout(0.2))\n",
    "model.add(BatchNormalization())"
   ]
  },
  {
   "cell_type": "code",
   "execution_count": 10,
   "metadata": {},
   "outputs": [],
   "source": [
    "model.add(Conv2D(64, (3, 3), padding='same'))\n",
    "model.add(Activation('relu'))\n",
    "model.add(MaxPooling2D(pool_size=(2, 2)))\n",
    "model.add(Dropout(0.2))\n",
    "model.add(BatchNormalization())"
   ]
  },
  {
   "cell_type": "code",
   "execution_count": 11,
   "metadata": {},
   "outputs": [],
   "source": [
    "model.add(Conv2D(128, (3, 3), padding='same'))\n",
    "model.add(Activation('relu'))\n",
    "model.add(Dropout(0.2))\n",
    "model.add(BatchNormalization())"
   ]
  },
  {
   "cell_type": "code",
   "execution_count": 12,
   "metadata": {},
   "outputs": [],
   "source": [
    "model.add(Flatten())\n",
    "model.add(Dropout(0.2))"
   ]
  },
  {
   "cell_type": "code",
   "execution_count": 13,
   "metadata": {},
   "outputs": [],
   "source": [
    "model.add(Dense(256, kernel_constraint=maxnorm(3)))\n",
    "model.add(Activation('relu'))\n",
    "model.add(Dropout(0.2))\n",
    "model.add(BatchNormalization())"
   ]
  },
  {
   "cell_type": "code",
   "execution_count": 14,
   "metadata": {},
   "outputs": [],
   "source": [
    "model.add(Dense(128, kernel_constraint=maxnorm(3)))\n",
    "model.add(Activation('relu'))\n",
    "model.add(Dropout(0.2))\n",
    "model.add(BatchNormalization())"
   ]
  },
  {
   "cell_type": "code",
   "execution_count": 15,
   "metadata": {},
   "outputs": [],
   "source": [
    "model.add(Dense(num_classes))\n",
    "model.add(Activation('softmax'))"
   ]
  },
  {
   "cell_type": "code",
   "execution_count": 16,
   "metadata": {},
   "outputs": [],
   "source": [
    "epochs = 25\n",
    "optimizer = 'Adam'"
   ]
  },
  {
   "cell_type": "code",
   "execution_count": 17,
   "metadata": {},
   "outputs": [],
   "source": [
    "model.compile(loss='categorical_crossentropy', optimizer=optimizer, metrics=['accuracy'])"
   ]
  },
  {
   "cell_type": "code",
   "execution_count": 18,
   "metadata": {},
   "outputs": [
    {
     "name": "stdout",
     "output_type": "stream",
     "text": [
      "Model: \"sequential_1\"\n",
      "_________________________________________________________________\n",
      "Layer (type)                 Output Shape              Param #   \n",
      "=================================================================\n",
      "conv2d_1 (Conv2D)            (None, 32, 32, 32)        896       \n",
      "_________________________________________________________________\n",
      "activation_1 (Activation)    (None, 32, 32, 32)        0         \n",
      "_________________________________________________________________\n",
      "dropout_1 (Dropout)          (None, 32, 32, 32)        0         \n",
      "_________________________________________________________________\n",
      "batch_normalization_1 (Batch (None, 32, 32, 32)        128       \n",
      "_________________________________________________________________\n",
      "conv2d_2 (Conv2D)            (None, 32, 32, 64)        18496     \n",
      "_________________________________________________________________\n",
      "activation_2 (Activation)    (None, 32, 32, 64)        0         \n",
      "_________________________________________________________________\n",
      "max_pooling2d_1 (MaxPooling2 (None, 16, 16, 64)        0         \n",
      "_________________________________________________________________\n",
      "dropout_2 (Dropout)          (None, 16, 16, 64)        0         \n",
      "_________________________________________________________________\n",
      "batch_normalization_2 (Batch (None, 16, 16, 64)        256       \n",
      "_________________________________________________________________\n",
      "conv2d_3 (Conv2D)            (None, 16, 16, 64)        36928     \n",
      "_________________________________________________________________\n",
      "activation_3 (Activation)    (None, 16, 16, 64)        0         \n",
      "_________________________________________________________________\n",
      "max_pooling2d_2 (MaxPooling2 (None, 8, 8, 64)          0         \n",
      "_________________________________________________________________\n",
      "dropout_3 (Dropout)          (None, 8, 8, 64)          0         \n",
      "_________________________________________________________________\n",
      "batch_normalization_3 (Batch (None, 8, 8, 64)          256       \n",
      "_________________________________________________________________\n",
      "conv2d_4 (Conv2D)            (None, 8, 8, 128)         73856     \n",
      "_________________________________________________________________\n",
      "activation_4 (Activation)    (None, 8, 8, 128)         0         \n",
      "_________________________________________________________________\n",
      "dropout_4 (Dropout)          (None, 8, 8, 128)         0         \n",
      "_________________________________________________________________\n",
      "batch_normalization_4 (Batch (None, 8, 8, 128)         512       \n",
      "_________________________________________________________________\n",
      "flatten_1 (Flatten)          (None, 8192)              0         \n",
      "_________________________________________________________________\n",
      "dropout_5 (Dropout)          (None, 8192)              0         \n",
      "_________________________________________________________________\n",
      "dense_1 (Dense)              (None, 256)               2097408   \n",
      "_________________________________________________________________\n",
      "activation_5 (Activation)    (None, 256)               0         \n",
      "_________________________________________________________________\n",
      "dropout_6 (Dropout)          (None, 256)               0         \n",
      "_________________________________________________________________\n",
      "batch_normalization_5 (Batch (None, 256)               1024      \n",
      "_________________________________________________________________\n",
      "dense_2 (Dense)              (None, 128)               32896     \n",
      "_________________________________________________________________\n",
      "activation_6 (Activation)    (None, 128)               0         \n",
      "_________________________________________________________________\n",
      "dropout_7 (Dropout)          (None, 128)               0         \n",
      "_________________________________________________________________\n",
      "batch_normalization_6 (Batch (None, 128)               512       \n",
      "_________________________________________________________________\n",
      "dense_3 (Dense)              (None, 10)                1290      \n",
      "_________________________________________________________________\n",
      "activation_7 (Activation)    (None, 10)                0         \n",
      "=================================================================\n",
      "Total params: 2,264,458\n",
      "Trainable params: 2,263,114\n",
      "Non-trainable params: 1,344\n",
      "_________________________________________________________________\n",
      "None\n"
     ]
    }
   ],
   "source": [
    "print(model.summary())"
   ]
  },
  {
   "cell_type": "code",
   "execution_count": 19,
   "metadata": {},
   "outputs": [
    {
     "name": "stdout",
     "output_type": "stream",
     "text": [
      "WARNING:tensorflow:From E:\\Maynooth\\PythonAnaconda\\envs\\PythonCpu\\lib\\site-packages\\keras\\backend\\tensorflow_backend.py:422: The name tf.global_variables is deprecated. Please use tf.compat.v1.global_variables instead.\n",
      "\n",
      "Train on 50000 samples, validate on 10000 samples\n",
      "Epoch 1/25\n",
      "50000/50000 [==============================] - 2647s 53ms/step - loss: 1.4993 - accuracy: 0.4696 - val_loss: 1.2511 - val_accuracy: 0.5618\n",
      "Epoch 2/25\n",
      "50000/50000 [==============================] - 2488s 50ms/step - loss: 1.0060 - accuracy: 0.6445 - val_loss: 0.8484 - val_accuracy: 0.7014\n",
      "Epoch 3/25\n",
      "50000/50000 [==============================] - 2426s 49ms/step - loss: 0.8503 - accuracy: 0.7013 - val_loss: 0.8001 - val_accuracy: 0.7199\n",
      "Epoch 4/25\n",
      "50000/50000 [==============================] - 2453s 49ms/step - loss: 0.7556 - accuracy: 0.7354 - val_loss: 0.7136 - val_accuracy: 0.7526\n",
      "Epoch 5/25\n",
      "50000/50000 [==============================] - 2439s 49ms/step - loss: 0.7066 - accuracy: 0.7527 - val_loss: 0.7397 - val_accuracy: 0.7427\n",
      "Epoch 6/25\n",
      "50000/50000 [==============================] - 2431s 49ms/step - loss: 0.6607 - accuracy: 0.7671 - val_loss: 0.6619 - val_accuracy: 0.7699\n",
      "Epoch 7/25\n",
      "50000/50000 [==============================] - 2442s 49ms/step - loss: 0.6313 - accuracy: 0.7793 - val_loss: 0.6498 - val_accuracy: 0.7760\n",
      "Epoch 8/25\n",
      "50000/50000 [==============================] - 3016s 60ms/step - loss: 0.6062 - accuracy: 0.7883 - val_loss: 0.6074 - val_accuracy: 0.7932\n",
      "Epoch 9/25\n",
      "50000/50000 [==============================] - 2772s 55ms/step - loss: 0.5741 - accuracy: 0.8010 - val_loss: 0.5836 - val_accuracy: 0.7984\n",
      "Epoch 10/25\n",
      "50000/50000 [==============================] - 2419s 48ms/step - loss: 0.5618 - accuracy: 0.8039 - val_loss: 0.6290 - val_accuracy: 0.7918\n",
      "Epoch 11/25\n",
      "50000/50000 [==============================] - 2411s 48ms/step - loss: 0.5357 - accuracy: 0.8134 - val_loss: 0.5623 - val_accuracy: 0.8061\n",
      "Epoch 12/25\n",
      "50000/50000 [==============================] - 2420s 48ms/step - loss: 0.5212 - accuracy: 0.8178 - val_loss: 0.5645 - val_accuracy: 0.8057\n",
      "Epoch 13/25\n",
      "50000/50000 [==============================] - 2415s 48ms/step - loss: 0.5106 - accuracy: 0.8220 - val_loss: 0.6791 - val_accuracy: 0.7692\n",
      "Epoch 14/25\n",
      "50000/50000 [==============================] - 2414s 48ms/step - loss: 0.4980 - accuracy: 0.8254 - val_loss: 0.5440 - val_accuracy: 0.8135\n",
      "Epoch 15/25\n",
      "50000/50000 [==============================] - 2413s 48ms/step - loss: 0.4962 - accuracy: 0.8263 - val_loss: 0.5707 - val_accuracy: 0.8057\n",
      "Epoch 16/25\n",
      "50000/50000 [==============================] - 2414s 48ms/step - loss: 0.4843 - accuracy: 0.8281 - val_loss: 0.5596 - val_accuracy: 0.8088\n",
      "Epoch 17/25\n",
      "50000/50000 [==============================] - 2415s 48ms/step - loss: 0.4657 - accuracy: 0.8366 - val_loss: 0.5821 - val_accuracy: 0.8007\n",
      "Epoch 18/25\n",
      "50000/50000 [==============================] - 2417s 48ms/step - loss: 0.4629 - accuracy: 0.8370 - val_loss: 0.6165 - val_accuracy: 0.7930\n",
      "Epoch 19/25\n",
      "50000/50000 [==============================] - 2418s 48ms/step - loss: 0.4588 - accuracy: 0.8388 - val_loss: 0.4953 - val_accuracy: 0.8308\n",
      "Epoch 20/25\n",
      "50000/50000 [==============================] - 2419s 48ms/step - loss: 0.4419 - accuracy: 0.8464 - val_loss: 0.5069 - val_accuracy: 0.8307\n",
      "Epoch 21/25\n",
      "50000/50000 [==============================] - 2726s 55ms/step - loss: 0.4397 - accuracy: 0.8445 - val_loss: 0.5133 - val_accuracy: 0.8224\n",
      "Epoch 22/25\n",
      "50000/50000 [==============================] - 3923s 78ms/step - loss: 0.4385 - accuracy: 0.8468 - val_loss: 0.6109 - val_accuracy: 0.7957\n",
      "Epoch 23/25\n",
      "50000/50000 [==============================] - 2500s 50ms/step - loss: 0.4274 - accuracy: 0.8504 - val_loss: 0.5087 - val_accuracy: 0.8271\n",
      "Epoch 24/25\n",
      "50000/50000 [==============================] - 2431s 49ms/step - loss: 0.4211 - accuracy: 0.8535 - val_loss: 0.5721 - val_accuracy: 0.8104\n",
      "Epoch 25/25\n",
      "50000/50000 [==============================] - 2419s 48ms/step - loss: 0.4256 - accuracy: 0.8526 - val_loss: 0.5122 - val_accuracy: 0.8239\n"
     ]
    },
    {
     "data": {
      "text/plain": [
       "<keras.callbacks.callbacks.History at 0x18241d68>"
      ]
     },
     "execution_count": 19,
     "metadata": {},
     "output_type": "execute_result"
    }
   ],
   "source": [
    "model.fit(X_train, y_train, validation_data=(X_test, y_test), epochs=epochs, batch_size=64)"
   ]
  },
  {
   "cell_type": "code",
   "execution_count": 20,
   "metadata": {},
   "outputs": [
    {
     "name": "stdout",
     "output_type": "stream",
     "text": [
      "Accuracy: 82.39%\n"
     ]
    }
   ],
   "source": [
    "# Final evaluation of the model\n",
    "\n",
    "scores = model.evaluate(X_test, y_test, verbose=0)\n",
    "print(\"Accuracy: %.2f%%\" % (scores[1]*100))"
   ]
  },
  {
   "cell_type": "code",
   "execution_count": null,
   "metadata": {},
   "outputs": [],
   "source": []
  }
 ],
 "metadata": {
  "kernelspec": {
   "display_name": "PythonCpu",
   "language": "python",
   "name": "pythoncpu"
  },
  "language_info": {
   "codemirror_mode": {
    "name": "ipython",
    "version": 3
   },
   "file_extension": ".py",
   "mimetype": "text/x-python",
   "name": "python",
   "nbconvert_exporter": "python",
   "pygments_lexer": "ipython3",
   "version": "3.6.12"
  }
 },
 "nbformat": 4,
 "nbformat_minor": 2
}
